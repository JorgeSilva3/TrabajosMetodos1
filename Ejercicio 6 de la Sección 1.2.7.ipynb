{
 "cells": [
  {
   "cell_type": "code",
   "execution_count": null,
   "id": "f2d0c5dd-e4eb-4a8d-acbc-6af148bf89ea",
   "metadata": {},
   "outputs": [],
   "source": [
    "import numpy as np\n",
    "\n",
    "# Definición de los vectores\n",
    "a = np.array([1, 2, 3])\n",
    "b = np.array([4, 5, 6])\n",
    "c = np.array([3, 2, 1])\n",
    "d = np.array([6, 5, 4])\n"
   ]
  },
  {
   "cell_type": "markdown",
   "id": "7c4133d7-c074-4004-ba9d-93a983b12d68",
   "metadata": {
    "raw_mimetype": "pdf",
    "tags": []
   },
   "source": [
    "### Parte (a) - Sumas y Restas de Vectores\n",
    "Para calcular las sumas y restas de los vectores, se utilizaron operaciones vectoriales básicas proporcionadas por NumPy, sumando y restando directamente los arrays que representan cada vector."
   ]
  },
  {
   "cell_type": "code",
   "execution_count": 30,
   "id": "40f3a71c-6322-479d-b24c-5514769fc0dc",
   "metadata": {},
   "outputs": [
    {
     "name": "stdout",
     "output_type": "stream",
     "text": [
      "a + b + c + d: [14 14 14]\n",
      "a + b - c - d: [-4  0  4]\n",
      "a - b + c - d: [-6 -6 -6]\n",
      "-a + b - c + d: [6 6 6]\n"
     ]
    }
   ],
   "source": [
    "# a) Sumas y restas de vectores\n",
    "suma = a + b + c + d\n",
    "resta1 = a + b - c - d\n",
    "resta2 = a - b + c - d\n",
    "resta3 = -a + b - c + d\n",
    "\n",
    "print(\"a + b + c + d:\", suma)\n",
    "print(\"a + b - c - d:\", resta1)\n",
    "print(\"a - b + c - d:\", resta2)\n",
    "print(\"-a + b - c + d:\", resta3)\n"
   ]
  },
  {
   "cell_type": "markdown",
   "id": "1167c427-0098-45c1-98e0-67d8350c1221",
   "metadata": {},
   "source": [
    "### Parte (b) - Ángulo con Vectores Base\n",
    "Se calcularon los ángulos entre los vectores $a$, $b$, $c$, $d$ y los vectores base $\\hat{e}_1$, $\\hat{e}_2$, $\\hat{e}_3$ usando el producto punto y la magnitud de los vectores. La fórmula utilizada fue $\\theta = \\arccos\\left(\\frac{A \\cdot B}{|A||B|}\\right)$, aplicada para cada par de vectores.\n",
    "\n"
   ]
  },
  {
   "cell_type": "code",
   "execution_count": 31,
   "id": "ebeb0dce-6157-46ce-ac47-40113b4d965e",
   "metadata": {},
   "outputs": [
    {
     "name": "stdout",
     "output_type": "stream",
     "text": [
      "Ángulo entre a y e1: 74.50 grados\n",
      "Ángulo entre a y e2: 57.69 grados\n",
      "Ángulo entre a y e3: 36.70 grados\n",
      "Ángulo entre b y e1: 62.88 grados\n",
      "Ángulo entre b y e2: 55.26 grados\n",
      "Ángulo entre b y e3: 46.86 grados\n",
      "Ángulo entre c y e1: 36.70 grados\n",
      "Ángulo entre c y e2: 57.69 grados\n",
      "Ángulo entre c y e3: 74.50 grados\n",
      "Ángulo entre d y e1: 46.86 grados\n",
      "Ángulo entre d y e2: 55.26 grados\n",
      "Ángulo entre d y e3: 62.88 grados\n"
     ]
    }
   ],
   "source": [
    "# Vectores base\n",
    "e1 = np.array([1, 0, 0])\n",
    "e2 = np.array([0, 1, 0])\n",
    "e3 = np.array([0, 0, 1])\n",
    "\n",
    "# Función para calcular ángulo entre dos vectores en grados\n",
    "def angulo_entre_vectores(v1, v2):\n",
    "    cos_theta = np.dot(v1, v2) / (np.linalg.norm(v1) * np.linalg.norm(v2))\n",
    "    theta = np.arccos(np.clip(cos_theta, -1.0, 1.0))  # Asegurar valores dentro del dominio\n",
    "    return np.degrees(theta)\n",
    "\n",
    "#b) Calculando los ángulos para cada vector base\n",
    "vectores = [a, b, c, d]\n",
    "nombres = ['a', 'b', 'c', 'd']\n",
    "bases = [e1, e2, e3]\n",
    "nombres_bases = ['e1', 'e2', 'e3']\n",
    "\n",
    "for nombre, vector in zip(nombres, vectores):\n",
    "    for nombre_base, base in zip(nombres_bases, bases):\n",
    "        angulo = angulo_entre_vectores(vector, base)\n",
    "        print(f\"Ángulo entre {nombre} y {nombre_base}: {angulo:.2f} grados\")\n"
   ]
  },
  {
   "cell_type": "markdown",
   "id": "c0cd4be5-963f-4c7b-b1cf-b15a97262d6a",
   "metadata": {},
   "source": [
    "### Parte (c) - Magnitud de los Vectores\n",
    "La magnitud de cada vector se calculó usando la norma euclidiana proporcionada por `np.linalg.norm`."
   ]
  },
  {
   "cell_type": "code",
   "execution_count": 32,
   "id": "34cc833f-9b4d-444f-997d-37fcd899ae2a",
   "metadata": {},
   "outputs": [
    {
     "name": "stdout",
     "output_type": "stream",
     "text": [
      "Magnitud de a: 3.74\n",
      "Magnitud de b: 8.77\n",
      "Magnitud de c: 3.74\n",
      "Magnitud de d: 8.77\n"
     ]
    }
   ],
   "source": [
    "#c) Magnitudes\n",
    "magnitudes = {nombre: np.linalg.norm(vector) for nombre, vector in zip(nombres, vectores)}\n",
    "for nombre, magnitud in magnitudes.items():\n",
    "    print(f\"Magnitud de {nombre}: {magnitud:.2f}\")\n"
   ]
  },
  {
   "cell_type": "markdown",
   "id": "0f7c0d7a-907d-429e-8a64-e833b90f26ba",
   "metadata": {},
   "source": [
    "### Parte (d) - Ángulo entre $a$ y $b$ y entre $c$ y $d$\n",
    "Para estos cálculos, se aplicós la misma fórmula del ángulo usada en la parte (b), pero específicamente entre los pares de vectores $a$ y $b$, y $c$ y $d$."
   ]
  },
  {
   "cell_type": "code",
   "execution_count": 33,
   "id": "ee9bb8eb-51ba-4c45-b516-d2b2bfb6a538",
   "metadata": {},
   "outputs": [
    {
     "name": "stdout",
     "output_type": "stream",
     "text": [
      "Ángulo entre a y b: 12.93 grados\n",
      "Ángulo entre c y d: 12.93 grados\n"
     ]
    }
   ],
   "source": [
    "#d) Ángulos\n",
    "angulo_ab = angulo_entre_vectores(a, b)\n",
    "angulo_cd = angulo_entre_vectores(c, d)\n",
    "\n",
    "print(f\"Ángulo entre a y b: {angulo_ab:.2f} grados\")\n",
    "print(f\"Ángulo entre c y d: {angulo_cd:.2f} grados\")\n"
   ]
  },
  {
   "cell_type": "markdown",
   "id": "d4a60e19-45ee-4ded-9834-ef5d9a3fa36b",
   "metadata": {},
   "source": [
    "### Parte (e) - Proyección de $a$ sobre $b$\n",
    "La proyección de $a$ sobre $b$ se calculó usando la fórmula de la proyección vectorial: $ \\text{proj}_{\\mathbf{b}}\\mathbf{a} = \\frac{\\mathbf{a} \\cdot \\mathbf{b}}{||\\mathbf{b}||^2} \\mathbf{b} $."
   ]
  },
  {
   "cell_type": "code",
   "execution_count": 34,
   "id": "ae2bbead-cefa-4ddb-a271-cef521f93e6e",
   "metadata": {},
   "outputs": [
    {
     "name": "stdout",
     "output_type": "stream",
     "text": [
      "Proyección de a sobre b: [1.66233766 2.07792208 2.49350649]\n"
     ]
    }
   ],
   "source": [
    "#e) Proyección de a sobre b\n",
    "proyeccion_a_b = np.dot(a, b) / np.linalg.norm(b)**2 * b\n",
    "print(\"Proyección de a sobre b:\", proyeccion_a_b)\n"
   ]
  },
  {
   "cell_type": "markdown",
   "id": "877d95ab-5084-40eb-87b8-3aa3894fec90",
   "metadata": {},
   "source": [
    "### Parte (f) - Coplanaridad de los Vectores\n",
    "Para verificar si los vectores son coplanares se revisó si $d$ puede ser expresado como una combinación lineal de $a$, $b$, y $c$, o sea, que $d$ es linealmente dependiente de $a$, $b$, y $c$ y por ende, todos están en el mismi plano. Se verificó mediante la solución de un sistema de ecuaciones lineales.\n"
   ]
  },
  {
   "cell_type": "code",
   "execution_count": 35,
   "id": "35bd3538-2adf-4e83-bf7b-db2791fa8c88",
   "metadata": {},
   "outputs": [
    {
     "name": "stdout",
     "output_type": "stream",
     "text": [
      "¿Son los vectores a, b, c y d coplanares?: Sí\n"
     ]
    }
   ],
   "source": [
    "#f) Construyendo la matriz con los vectores a, b, y c\n",
    "M = np.column_stack((a, b, c))\n",
    "\n",
    "# Usando np.linalg.lstsq para encontrar coeficientes que satisfacen d = αa + βb + γc\n",
    "coeficientes, residuos, rango, s = np.linalg.lstsq(M, d, rcond=None)\n",
    "\n",
    "# Interpretando los resultados\n",
    "es_coplanar = rango < 3  # En R^3, si el rango es menor que 3, los vectores son dependientes linealmente\n",
    "\n",
    "print(f\"¿Son los vectores a, b, c y d coplanares?: {'Sí' if es_coplanar else 'No'}\")"
   ]
  },
  {
   "cell_type": "markdown",
   "id": "4c139166-1465-4fad-80e0-4d05832b23c5",
   "metadata": {},
   "source": [
    "### Parte (g) - Producto Punto $(a + b) \\cdot (c + d)$\n",
    "El producto punto se calculó directamente usando la función de producto punto de NumPy entre los vectores resultantes de las sumas $a + b$ y $c + d$."
   ]
  },
  {
   "cell_type": "code",
   "execution_count": 36,
   "id": "17710c62-e096-45f4-ab63-43aa805c6275",
   "metadata": {},
   "outputs": [
    {
     "name": "stdout",
     "output_type": "stream",
     "text": [
      "(a + b) · (c + d): 139\n"
     ]
    }
   ],
   "source": [
    "#g) Producto punto\n",
    "producto_punto = np.dot(a + b, c + d)\n",
    "print(\"(a + b) · (c + d):\", producto_punto)\n"
   ]
  },
  {
   "cell_type": "markdown",
   "id": "7b78e5f9-44f5-4f81-b5e9-94cd7b378c72",
   "metadata": {},
   "source": [
    "### Parte (h) - Productos Cruz y Ángulos con $d$\n",
    "Se calcularon los productos cruz entre los pares de vectores indicados y luego se encontraron el ángulo entre cada producto cruz y el vector $d$, aplicando la misma fórmula de ángulo usada anteriormente.\n"
   ]
  },
  {
   "cell_type": "code",
   "execution_count": 23,
   "id": "1b42b073-53fb-4166-a05e-cb612fcb2308",
   "metadata": {},
   "outputs": [
    {
     "name": "stdout",
     "output_type": "stream",
     "text": [
      "a × b: [-3  6 -3], ángulo con d: 90.00 grados\n",
      "b × c: [-7 14 -7], ángulo con d: 90.00 grados\n",
      "c × d: [ 3 -6  3], ángulo con d: 90.00 grados\n"
     ]
    }
   ],
   "source": [
    "#h) Productos Cruz y Ángulos con d\n",
    "\n",
    "productos_cruz = [('a × b', np.cross(a, b)), ('b × c', np.cross(b, c)), ('c × d', np.cross(c, d))]\n",
    "for nombre, producto in productos_cruz:\n",
    "    angulo_con_d = angulo_entre_vectores(producto, d)\n",
    "    print(f\"{nombre}: {producto}, ángulo con d: {angulo_con_d:.2f} grados\")\n"
   ]
  },
  {
   "cell_type": "markdown",
   "id": "2285835c-05a9-4983-aa0e-c08e2c90a12b",
   "metadata": {},
   "source": [
    "## Parte (i) - $c \\cdot (a \\times b)$\n",
    "Este ítem involucra calcular el producto cruz de $a$ y $b$, y luego hacer el producto punto de este resultado con $c$, usando las funciones de NumPy correspondientes."
   ]
  },
  {
   "cell_type": "code",
   "execution_count": 12,
   "id": "06a168a8-c725-495c-a8a2-c2bd31522794",
   "metadata": {},
   "outputs": [
    {
     "name": "stdout",
     "output_type": "stream",
     "text": [
      "c · (a × b): 0\n"
     ]
    }
   ],
   "source": [
    "#i) Producto punto de c con el producto cruz de a y b\n",
    "c_dot_a_cross_b = np.dot(c, np.cross(a, b))\n",
    "print(\"c · (a × b):\", c_dot_a_cross_b)\n"
   ]
  },
  {
   "cell_type": "markdown",
   "id": "c5f05aba-c956-4408-81fb-6fdf1cd1ed5f",
   "metadata": {},
   "source": [
    "### Estrategias Adicionales\n",
    "- **Álgebra Lineal**: Para tareas como la determinación de la coplanaridad y la proyección de un vector sobre otro, se aplicaron conceptos de álgebra lineal, utilizando herramientas proporcionadas por NumPy.\n",
    "- **Funciones de NumPy**: Se hizo uso extensivo de `np.array`, `np.dot`, `np.cross`, `np.linalg.norm`, y `np.linalg.lstsq` para realizar las operaciones vectoriales y de álgebra lineal requeridas.\n",
    "- **Cálculos Angulares**: Para calcular ángulos, se empleó la función `np.arccos` junto con operaciones de producto punto y norma, asegurándo mantener los resultados dentro de los límites adecuados para la función arcocoseno."
   ]
  },
  {
   "cell_type": "code",
   "execution_count": null,
   "id": "cdd2407d-617d-43d2-8ab0-b9650729e302",
   "metadata": {},
   "outputs": [],
   "source": []
  }
 ],
 "metadata": {
  "kernelspec": {
   "display_name": "Python 3",
   "language": "python",
   "name": "python3"
  },
  "language_info": {
   "codemirror_mode": {
    "name": "ipython",
    "version": 3
   },
   "file_extension": ".py",
   "mimetype": "text/x-python",
   "name": "python",
   "nbconvert_exporter": "python",
   "pygments_lexer": "ipython3",
   "version": "3.8.8"
  }
 },
 "nbformat": 4,
 "nbformat_minor": 5
}
