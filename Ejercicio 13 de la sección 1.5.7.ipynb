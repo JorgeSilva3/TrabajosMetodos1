{
 "cells": [
  {
   "cell_type": "markdown",
   "id": "68f5e04d-32a3-4726-b602-6ea11ac4b9fb",
   "metadata": {},
   "source": [
    "# Cálculo del Trabajo realizado por un Campo de Fuerza\n",
    "\n",
    "Dado el campo de fuerza:\n",
    "\n",
    "$$\n",
    "\\mathbf{F} = -\\frac{y}{x^2 + y^2} \\mathbf{i} + \\frac{x}{x^2 + y^2} \\mathbf{j}\n",
    "$$\n",
    "\n",
    "Se busca calcular el trabajo hecho contra este campo de fuerza al moverse alrededor de un círculo de radio uno en el plano $x - y$. Las situaciones de interés son:\n",
    "\n",
    "(a) Desde $0$ a $\\pi$ en sentido contrario a las agujas del reloj.\n",
    "\n",
    "(b) Desde $0$ a $-\\pi$ en sentido de las agujas del reloj.\n",
    "\n",
    "## Metodología\n",
    "\n",
    "El trabajo realizado por un campo de fuerza a lo largo de una trayectoria cerrada se calcula mediante la integral de línea:\n",
    "\n",
    "$$\n",
    "W = \\int_C \\mathbf{F} \\cdot d\\mathbf{r}\n",
    "$$\n",
    "\n",
    "Donde $d\\mathbf{r}$ es el diferencial de desplazamiento a lo largo de la trayectoria. Para un círculo de radio uno, podemos parametrizar la trayectoria utilizando coordenadas polares con $x = \\cos(t)$ y $y = \\sin(t)$, donde $t$ varía dentro de los intervalos dados.\n",
    "\n",
    "El diferencial de desplazamiento $d\\mathbf{r}$, en términos de la parametrización por $t$, es $d\\mathbf{r} = (-\\sin(t)\\mathbf{i} + \\cos(t)\\mathbf{j})dt$.\n",
    "\n",
    "Sustituyendo $x$, $y$, y $d\\mathbf{r}$ en términos de $t$ en la expresión para $\\mathbf{F}$ y calculando el producto punto $\\mathbf{F} \\cdot d\\mathbf{r}$, se obtiene una expresión en función de $t$ que puede ser integrada sobre los intervalos de interés para hallar el trabajo realizado.\n",
    "\n"
   ]
  },
  {
   "cell_type": "code",
   "execution_count": 2,
   "id": "c42e8896-54a1-48ed-a2d4-c23e9f8d02a6",
   "metadata": {},
   "outputs": [
    {
     "name": "stdout",
     "output_type": "stream",
     "text": [
      "(a) Trabajo realizado desde 0 a π en sentido contrario a las agujas del reloj: 3.1447373909807737 J\n",
      "(b) Trabajo realizado desde 0 a -π en sentido de las agujas del reloj: -3.1447373909807737 J\n"
     ]
    }
   ],
   "source": [
    "import numpy as np\n",
    "\n",
    "# Función para calcular el trabajo realizado por el campo de fuerza\n",
    "def calcular_trabajo(intervalo):\n",
    "    # Integral de línea utilizando la regla de Simpson o cualquier método numérico de integración\n",
    "    t = np.linspace(intervalo[0], intervalo[1], 1000) # Genera puntos entre los límites de integración\n",
    "    dt = t[1] - t[0] # Diferencial de t\n",
    "    \n",
    "    # Componentes del campo de fuerza en términos de t\n",
    "    Fx = -np.sin(t) / (np.cos(t)**2 + np.sin(t)**2)\n",
    "    Fy = np.cos(t) / (np.cos(t)**2 + np.sin(t)**2)\n",
    "    \n",
    "    # Componentes del diferencial de desplazamiento en términos de t\n",
    "    dx = -np.sin(t)\n",
    "    dy = np.cos(t)\n",
    "    \n",
    "    # Producto punto F . dr\n",
    "    F_dot_dr = Fx*dx + Fy*dy\n",
    "    \n",
    "    # Trabajo realizado por el campo de fuerza\n",
    "    trabajo = np.sum(F_dot_dr) * dt\n",
    "    return trabajo\n",
    "\n",
    "# Calcula el trabajo para cada intervalo\n",
    "trabajo_a = calcular_trabajo([0, np.pi])\n",
    "trabajo_b = calcular_trabajo([0, -np.pi])\n",
    "\n",
    "print(f\"(a) Trabajo realizado desde 0 a π en sentido contrario a las agujas del reloj: {trabajo_a} J\")\n",
    "print(f\"(b) Trabajo realizado desde 0 a -π en sentido de las agujas del reloj: {trabajo_b} J\")\n"
   ]
  },
  {
   "cell_type": "code",
   "execution_count": null,
   "id": "af2f7256-6417-4f20-be65-c8758153ac10",
   "metadata": {},
   "outputs": [],
   "source": []
  }
 ],
 "metadata": {
  "kernelspec": {
   "display_name": "Python 3",
   "language": "python",
   "name": "python3"
  },
  "language_info": {
   "codemirror_mode": {
    "name": "ipython",
    "version": 3
   },
   "file_extension": ".py",
   "mimetype": "text/x-python",
   "name": "python",
   "nbconvert_exporter": "python",
   "pygments_lexer": "ipython3",
   "version": "3.8.8"
  }
 },
 "nbformat": 4,
 "nbformat_minor": 5
}
