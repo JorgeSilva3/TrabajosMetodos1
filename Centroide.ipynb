{
 "cells": [
  {
   "cell_type": "code",
   "execution_count": 1,
   "id": "a7d75003-1d61-43ec-8cc0-7db1120082f8",
   "metadata": {},
   "outputs": [
    {
     "name": "stdin",
     "output_type": "stream",
     "text": [
      "Ingrese la coordenada x del vector posición a:  1\n",
      "Ingrese la coordenada y del vector posición a:  2\n",
      "Ingrese la coordenada z del vector posición a:  3\n",
      "Ingrese la coordenada x del vector posición b:  4\n",
      "Ingrese la coordenada y del vector posición b:  5\n",
      "Ingrese la coordenada z del vector posición b:  6\n",
      "Ingrese la coordenada x del vector posición c:  7\n",
      "Ingrese la coordenada y del vector posición c:  8\n",
      "Ingrese la coordenada z del vector posición c:  9\n"
     ]
    },
    {
     "name": "stdout",
     "output_type": "stream",
     "text": [
      "El vector posición del centroide G es: [4. 5. 6.]\n"
     ]
    }
   ],
   "source": [
    "import numpy as np\n",
    "\n",
    "# Solicitar al usuario que ingrese los valores para los vectores posición de los vértices A, B, y C\n",
    "a = np.array([float(input(\"Ingrese la coordenada x del vector posición a: \")),\n",
    "               float(input(\"Ingrese la coordenada y del vector posición a: \")),\n",
    "               float(input(\"Ingrese la coordenada z del vector posición a: \"))])\n",
    "\n",
    "b = np.array([float(input(\"Ingrese la coordenada x del vector posición b: \")),\n",
    "               float(input(\"Ingrese la coordenada y del vector posición b: \")),\n",
    "               float(input(\"Ingrese la coordenada z del vector posición b: \"))])\n",
    "\n",
    "c = np.array([float(input(\"Ingrese la coordenada x del vector posición c: \")),\n",
    "               float(input(\"Ingrese la coordenada y del vector posición c: \")),\n",
    "               float(input(\"Ingrese la coordenada z del vector posición c: \"))])\n",
    "\n",
    "# Calcular el vector posición del centroide G\n",
    "g = (a + b + c) / 3\n",
    "\n",
    "# Mostrar el vector posición del centroide G\n",
    "print(f\"El vector posición del centroide G es: {g}\")\n"
   ]
  },
  {
   "cell_type": "code",
   "execution_count": null,
   "id": "173c3929-54b5-4afb-ad41-91d62db919fc",
   "metadata": {},
   "outputs": [],
   "source": []
  }
 ],
 "metadata": {
  "kernelspec": {
   "display_name": "Python 3",
   "language": "python",
   "name": "python3"
  },
  "language_info": {
   "codemirror_mode": {
    "name": "ipython",
    "version": 3
   },
   "file_extension": ".py",
   "mimetype": "text/x-python",
   "name": "python",
   "nbconvert_exporter": "python",
   "pygments_lexer": "ipython3",
   "version": "3.8.8"
  }
 },
 "nbformat": 4,
 "nbformat_minor": 5
}
